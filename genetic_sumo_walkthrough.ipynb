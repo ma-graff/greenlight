{
 "cells": [
  {
   "cell_type": "markdown",
   "metadata": {},
   "source": [
    "# Genetic Algorithms and SUMO Walkthrough\n",
    "\n",
    "This notebook provides a short introduction to using genetic algorithms (GA) in Python with the [DEAP](https://deap.readthedocs.io/en/master/) library, and demonstrates how you might combine GA with the traffic simulation framework [SUMO](https://www.eclipse.org/sumo/).\n"
   ]
  },
  {
   "cell_type": "markdown",
   "metadata": {},
   "source": [
    "## Installing dependencies\n",
    "You'll need the `deap` package for the genetic algorithm, and a working SUMO installation with the Python bindings available. If you don't already have them, you can install with pip (make sure you have internet access or a local wheel)." 
   ]
  },
  {
   "cell_type": "code",
   "execution_count": null,
   "metadata": {},
   "outputs": [],
   "source": [
    "!pip install deap \u0026\u0026 echo \"If SUMO is not installed, you need to install it separately.\""
   ]
  },
  {
   "cell_type": "markdown",
   "metadata": {},
   "source": [
    "## Basic Genetic Algorithm Example\n",
    "Below is a simple GA using DEAP to minimize the sphere function (sum of squared values)."
   ]
  },
  {
   "cell_type": "code",
   "execution_count": null,
   "metadata": {},
   "outputs": [],
   "source": [
    "import random\n",
    "from deap import base, creator, tools, algorithms\n",
    "\n",
    "IND_SIZE = 5\n",
    "\n",
    "creator.create(\"FitnessMin\", base.Fitness, weights=(-1.0,))\n",
    "creator.create(\"Individual\", list, fitness=creator.FitnessMin)\n",
    "\n",
    "toolbox = base.Toolbox()\n",
    "toolbox.register(\"attr_float\", random.uniform, -5, 5)\n",
    "toolbox.register(\"individual\", tools.initRepeat, creator.Individual, toolbox.attr_float, n=IND_SIZE)\n",
    "toolbox.register(\"population\", tools.initRepeat, list, toolbox.individual)\n",
    "\n",
    "def eval_sphere(individual):\n",
    "    return sum(x*x for x in individual),\n",
    "\n",
    "toolbox.register(\"evaluate\", eval_sphere)\n",
    "toolbox.register(\"mate\", tools.cxBlend, alpha=0.5)\n",
    "toolbox.register(\"mutate\", tools.mutGaussian, mu=0, sigma=1, indpb=0.2)\n",
    "toolbox.register(\"select\", tools.selTournament, tournsize=3)\n",
    "\n",
    "population = toolbox.population(n=50)\n",
    "\n",
    "NGEN = 40\n",
    "for gen in range(NGEN):\n",
    "    offspring = algorithms.varAnd(population, toolbox, cxpb=0.5, mutpb=0.2)\n",
    "    fits = toolbox.map(toolbox.evaluate, offspring)\n",
    "    for fit, ind in zip(fits, offspring):\n",
    "        ind.fitness.values = fit\n",
    "    population = toolbox.select(offspring, k=len(population))\n",
    "\n",
    "best = tools.selBest(population, k=1)[0]\n",
    "best, sum(x*x for x in best)\n"
   ]
  },
  {
   "cell_type": "markdown",
   "metadata": {},
   "source": [
    "## Using GA with SUMO\n",
    "SUMO can be controlled through the TraCI Python API. The general approach is to run SUMO as a sub-process and connect to it from Python. You can then adjust parameters such as traffic light timings while the simulation is running, using a GA to search for better settings." 
   ]
  },
  {
   "cell_type": "code",
   "execution_count": null,
   "metadata": {},
   "outputs": [],
   "source": [
    "import os\n",
    "import traci\n",
    "\n",
    "sumo_binary = os.environ.get(\"SUMO_BINARY\", \"sumo\")\n",
    "sumo_cmd = [sumo_binary, \"-n\", \"your_network.net.xml\", \"-r\", \"your_routes.rou.xml\"]\n",
    "traci.start(sumo_cmd)\n",
    "\n",
    "# Example: read the waiting time on a lane\n",
    "waiting_time = traci.lane.getWaitingTime('laneID')\n",
    "print(\"Waiting time:", waiting_time)\n",
    "\n",
    "traci.close()\n"
   ]
  },
  {
   "cell_type": "markdown",
   "metadata": {},
   "source": [
    "This is just a minimal example to show how TraCI is used. To integrate with the GA, you would create a fitness function that runs a simulation with a given set of parameters (e.g., traffic light phase durations) and evaluates a performance metric from SUMO (like average waiting time)." 
   ]
  }
 ],
 "metadata": {
  "kernelspec": {
   "display_name": "Python 3",
   "language": "python",
   "name": "python3"
  },
  "language_info": {
   "name": "python",
   "version": "3.x"
  }
 },
 "nbformat": 4,
 "nbformat_minor": 2
}
