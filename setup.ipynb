{
 "cells": [
  {
   "cell_type": "markdown",
   "id": "b59b7667",
   "metadata": {},
   "source": [
    "# SUMO & Dependencies Setup\n",
    "This notebook is a walkthrough of the installation of SUMO & all necessary dependencies."
   ]
  },
  {
   "cell_type": "markdown",
   "id": "30b9ff15",
   "metadata": {},
   "source": [
    "## Step 1: SUMO Installation\n",
    "\n",
    "SUMO (Simulation of Urban Mobility) is our core traffic simulation engine.\n",
    "\n",
    "### Manual Download Required\n",
    "**You need to manually download and install SUMO first:**\n",
    "\n",
    "1. **Download:** Go to https://eclipse.dev/sumo/\n",
    "2. **Choose:** \"Windows 64bit + extras installer\" \n",
    "3. **Install:** Run the installer as administrator\n",
    "4. **Important:** During installation, check \"Add SUMO to PATH\" option"
   ]
  },
  {
   "cell_type": "markdown",
   "id": "d3cec138",
   "metadata": {},
   "source": [
    "## Step 2: Environment Setup and Dependencies\n",
    "\n",
    "Let's install and import all necessary libraries for the traffic optimization system."
   ]
  },
  {
   "cell_type": "code",
   "execution_count": null,
   "id": "bd23acf8",
   "metadata": {},
   "outputs": [],
   "source": [
    "# Install required packages (run only once)\n",
    "!pip install -r %SUMO_HOME%/tools/requirements.txt # (replace %SUMO_HOME% with your installation path)\n",
    "!pip install deap libsumo traci numpy pandas matplotlib seaborn "
   ]
  },
  {
   "cell_type": "code",
   "execution_count": 2,
   "id": "084ca86e",
   "metadata": {},
   "outputs": [
    {
     "name": "stdout",
     "output_type": "stream",
     "text": [
      "Basic libraries imported successfully!\n",
      "Working directory: /Users/matt/Documents/GitHub/greenlight\n",
      "Python version: 3.12.2 | packaged by conda-forge | (main, Feb 16 2024, 20:54:21) [Clang 16.0.6 ]\n"
     ]
    }
   ],
   "source": [
    "# Import essential libraries\n",
    "import numpy as np\n",
    "import pandas as pd\n",
    "import matplotlib.pyplot as plt\n",
    "import seaborn as sns\n",
    "from datetime import datetime\n",
    "import os\n",
    "import sys\n",
    "\n",
    "# Set up plotting style\n",
    "plt.style.use('default')\n",
    "sns.set_palette(\"husl\")\n",
    "\n",
    "print(\"Basic libraries imported successfully!\")\n",
    "print(f\"Working directory: {os.getcwd()}\")\n",
    "print(f\"Python version: {sys.version}\")"
   ]
  },
  {
   "cell_type": "markdown",
   "id": "e847f424",
   "metadata": {},
   "source": [
    "## Step 3. SUMO Environment Setup\n",
    "\n",
    "Configure SUMO (Simulation of Urban Mobility) for traffic simulation."
   ]
  },
  {
   "cell_type": "code",
   "execution_count": 3,
   "id": "c88114b8",
   "metadata": {},
   "outputs": [
    {
     "name": "stdout",
     "output_type": "stream",
     "text": [
      "SUMO libraries imported successfully!\n",
      "SUMO binary found at: /opt/miniconda3/lib/python3.12/site-packages/sumo/bin/sumo\n",
      "SUMO test directory found: sumo_test\n",
      "Available SUMO files: ['victoria-shelbourne-v1.rou.xml', 'victoria-shelbourne-v1.net.xml']\n"
     ]
    }
   ],
   "source": [
    "# SUMO setup and configuration\n",
    "try:\n",
    "    import sumolib\n",
    "    import traci\n",
    "    print(\"SUMO libraries imported successfully!\")\n",
    "    \n",
    "    # Check if SUMO is properly installed\n",
    "    sumo_binary = sumolib.checkBinary('sumo')\n",
    "    print(f\"SUMO binary found at: {sumo_binary}\")\n",
    "    \n",
    "    # Define SUMO files directory\n",
    "    SUMO_DIR = \"sumo_test\"\n",
    "    if os.path.exists(SUMO_DIR):\n",
    "        print(f\"SUMO test directory found: {SUMO_DIR}\")\n",
    "        \n",
    "        # List available network files\n",
    "        sumo_files = [f for f in os.listdir(SUMO_DIR) if f.endswith(('.xml', '.txt'))]\n",
    "        print(f\"Available SUMO files: {sumo_files}\")\n",
    "    else:\n",
    "        print(f\"Warning: SUMO test directory not found at {SUMO_DIR}\")\n",
    "        \n",
    "except ImportError as e:\n",
    "    print(f\"SUMO import error: {e}\")\n",
    "    print(\"Please ensure SUMO is properly installed and in your PATH\")"
   ]
  },
  {
   "cell_type": "markdown",
   "id": "3ee6c488",
   "metadata": {},
   "source": [
    "## Test SUMO Functionality"
   ]
  },
  {
   "cell_type": "markdown",
   "id": "aae5fc4e",
   "metadata": {},
   "source": [
    "/opt/miniconda3/lib/python3.12/site-packages/sumo/tools"
   ]
  },
  {
   "cell_type": "code",
   "execution_count": null,
   "id": "e9b49df5",
   "metadata": {},
   "outputs": [],
   "source": [
    "python /opt/miniconda3/lib/python3.12/site-packages/sumo/tools/randomTrips.py -n ./sumo_test/victoria-mckenzie-basic.net.xml -r ./sumo_test/random_trips_mckenzie_basic.rou.xml -e 1000 --seed 42 --validate"
   ]
  },
  {
   "cell_type": "code",
   "execution_count": null,
   "id": "313c9ed7",
   "metadata": {},
   "outputs": [],
   "source": [
    "python /opt/miniconda3/lib/python3.12/site-packages/sumo/tools/randomTrips.py -n ./sumo_test/mckenzie-verybasic.net.xml -r ./sumo_test/random_trips_mckenzie_verybasic.rou.xml -e 300 --seed 42 --validate"
   ]
  },
  {
   "cell_type": "code",
   "execution_count": null,
   "id": "1fd38235",
   "metadata": {},
   "outputs": [],
   "source": [
    "python /opt/miniconda3/lib/python3.12/site-packages/sumo/tools/randomTrips.py -n sumo_test/victoria-mckenzie-v1.net.xml -r ./sumo_test/random_trips_mckenzie_v1.rou.xml -e 1000 --seed 42 --validate"
   ]
  },
  {
   "cell_type": "code",
   "execution_count": null,
   "id": "b6ec8ea3",
   "metadata": {},
   "outputs": [],
   "source": [
    "sumo-gui -n sumo_test/victoria-mckenzie-v1.net.xml -r ./sumo_test/random_trips_mckenzie_v1.rou.xml\n"
   ]
  },
  {
   "cell_type": "code",
   "execution_count": null,
   "id": "c5e7ba5a",
   "metadata": {},
   "outputs": [],
   "source": []
  }
 ],
 "metadata": {
  "kernelspec": {
   "display_name": "base",
   "language": "python",
   "name": "python3"
  },
  "language_info": {
   "codemirror_mode": {
    "name": "ipython",
    "version": 3
   },
   "file_extension": ".py",
   "mimetype": "text/x-python",
   "name": "python",
   "nbconvert_exporter": "python",
   "pygments_lexer": "ipython3",
   "version": "3.12.2"
  }
 },
 "nbformat": 4,
 "nbformat_minor": 5
}
