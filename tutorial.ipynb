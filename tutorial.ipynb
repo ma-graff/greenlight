{
 "cells": [
  {
   "cell_type": "markdown",
   "id": "a56ba0e5",
   "metadata": {},
   "source": [
    "# Traffic Light Optimization: Using the GA\n",
    "This guide demonstrates how to use the genetic algorithm to optimize traffic light timings in a SUMO network for reduced fuel consumption, CO₂ emissions, and waiting time.\n",
    "\n",
    "**Note:** Before running this tutorial, please complete all steps in `setup.ipynb` to ensure the environment and dependencies are properly configured."
   ]
  },
  {
   "cell_type": "markdown",
   "id": "d750375c",
   "metadata": {},
   "source": [
    "## Baseline: Running SUMO on Default Traffic Light Settings\n",
    "\n",
    "Before applying the genetic algorithm, let's evaluate the performance of the default traffic light settings in the provided SUMO network. This will serve as a baseline for comparison."
   ]
  },
  {
   "cell_type": "code",
   "execution_count": 17,
   "id": "11f5dd80",
   "metadata": {},
   "outputs": [
    {
     "name": "stdout",
     "output_type": "stream",
     "text": [
      "Step #495.00 (0ms ?*RT. ?UPS, vehicles TOT 300 ACT 0 BUF 0)                               \n",
      "Baseline fitness (negative sum of CO2, fuel, waiting): -95411114.51\n",
      "Total CO2: 71945818.69\n",
      "Total Fuel: 23323881.82\n",
      "Total Waiting: 141414.00\n"
     ]
    }
   ],
   "source": [
    "# Run SUMO on the default network and evaluate fitness (no GA)\n",
    "import sys\n",
    "import os\n",
    "sys.path.append('scripts')\n",
    "from ga import evaluate_fitness\n",
    "from run_sumo import run_sumo\n",
    "\n",
    "# Set up paths for the default scenario\n",
    "default_dir = 'sumo/defaults/mckenzie/verybasic'\n",
    "netxml = os.path.join(default_dir, 'mckenzie-verybasic.net.xml')\n",
    "rouxml = os.path.join(default_dir, 'mckenzie-verybasic.rou.xml')\n",
    "working_dir = 'sumo/defaults/mckenzie/verybasic'  # Use same as input for baseline\n",
    "emission_file = os.path.join(working_dir, 'baseline_emissions.xml')\n",
    "\n",
    "# Evaluate fitness for the default settings\n",
    "fitness = evaluate_fitness(\n",
    "    netxml_path=netxml,\n",
    "    rouxml_path=rouxml,\n",
    "    working_dir=working_dir,\n",
    "    run_sumo_func=run_sumo,\n",
    "    emission_file=emission_file\n",
    ")\n",
    "\n",
    "print(f\"Baseline fitness (negative sum of CO2, fuel, waiting): {fitness:.2f}\")\n",
    "\n",
    "# Optionally, parse and display the emission file for more details\n",
    "import xml.etree.ElementTree as ET\n",
    "try:\n",
    "    tree = ET.parse(emission_file)\n",
    "    root = tree.getroot()\n",
    "    total_co2 = 0.0\n",
    "    total_fuel = 0.0\n",
    "    total_waiting = 0.0\n",
    "    for timestep in root.findall('timestep'):\n",
    "        for vehicle in timestep.findall('vehicle'):\n",
    "            total_co2 += float(vehicle.get('CO2', 0))\n",
    "            total_fuel += float(vehicle.get('fuel', 0))\n",
    "            total_waiting += float(vehicle.get('waiting', 0))\n",
    "    print(f\"Total CO2: {total_co2:.2f}\")\n",
    "    print(f\"Total Fuel: {total_fuel:.2f}\")\n",
    "    print(f\"Total Waiting: {total_waiting:.2f}\")\n",
    "except Exception as e:\n",
    "    print(f\"Could not parse emission file: {e}\")"
   ]
  },
  {
   "cell_type": "markdown",
   "id": "eff09bd0",
   "metadata": {},
   "source": [
    "## Running the Genetic Algorithm and Visualizing Results\n",
    "\n",
    "This section demonstrates how to use the genetic algorithm tool to optimize traffic light timings for reduced fuel, CO₂, and waiting time, and how to visualize the results."
   ]
  },
  {
   "cell_type": "code",
   "execution_count": 23,
   "id": "719c7391",
   "metadata": {},
   "outputs": [
    {
     "name": "stdout",
     "output_type": "stream",
     "text": [
      "Generation 1\n"
     ]
    },
    {
     "name": "stderr",
     "output_type": "stream",
     "text": [
      "Warning: At actuated tlLogic '5249323417', actuated phase 1 has no controlling detector.\n",
      "Warning: At actuated tlLogic '5249323417', actuated phase 3 has no controlling detector.\n"
     ]
    },
    {
     "name": "stdout",
     "output_type": "stream",
     "text": [
      "Step #726.00 (0ms ?*RT. ?UPS, vehicles TOT 300 ACT 0 BUF 0)                               \n",
      "  Individual 1: Fitness = -149477007.10002157\n"
     ]
    },
    {
     "name": "stderr",
     "output_type": "stream",
     "text": [
      "Warning: At actuated tlLogic '5249323417', actuated phase 1 has no controlling detector.\n",
      "Warning: At actuated tlLogic '5249323417', actuated phase 3 has no controlling detector.\n"
     ]
    },
    {
     "name": "stdout",
     "output_type": "stream",
     "text": [
      "Step #660.00 (0ms ?*RT. ?UPS, vehicles TOT 300 ACT 0 BUF 0)                               \n",
      "  Individual 2: Fitness = -128613124.89001107\n"
     ]
    },
    {
     "name": "stderr",
     "output_type": "stream",
     "text": [
      "Warning: At actuated tlLogic '5249323417', actuated phase 1 has no controlling detector.\n",
      "Warning: At actuated tlLogic '5249323417', actuated phase 3 has no controlling detector.\n"
     ]
    },
    {
     "name": "stdout",
     "output_type": "stream",
     "text": [
      "Step #663.00 (0ms ?*RT. ?UPS, vehicles TOT 300 ACT 0 BUF 0)                               \n",
      "  Individual 3: Fitness = -125562196.74001051\n"
     ]
    },
    {
     "name": "stderr",
     "output_type": "stream",
     "text": [
      "Warning: At actuated tlLogic '5249323417', actuated phase 1 has no controlling detector.\n",
      "Warning: At actuated tlLogic '5249323417', actuated phase 3 has no controlling detector.\n"
     ]
    },
    {
     "name": "stdout",
     "output_type": "stream",
     "text": [
      "Step #666.00 (0ms ?*RT. ?UPS, vehicles TOT 300 ACT 0 BUF 0)                               \n",
      "  Individual 4: Fitness = -123367931.46000943\n"
     ]
    },
    {
     "name": "stderr",
     "output_type": "stream",
     "text": [
      "Warning: At actuated tlLogic '5249323417', actuated phase 1 has no controlling detector.\n",
      "Warning: At actuated tlLogic '5249323417', actuated phase 3 has no controlling detector.\n"
     ]
    },
    {
     "name": "stdout",
     "output_type": "stream",
     "text": [
      "Step #585.00 (0ms ?*RT. ?UPS, vehicles TOT 300 ACT 0 BUF 0)                               \n",
      "  Individual 5: Fitness = -116612192.0800074\n"
     ]
    },
    {
     "name": "stderr",
     "output_type": "stream",
     "text": [
      "Warning: At actuated tlLogic '5249323417', actuated phase 1 has no controlling detector.\n",
      "Warning: At actuated tlLogic '5249323417', actuated phase 3 has no controlling detector.\n"
     ]
    },
    {
     "name": "stdout",
     "output_type": "stream",
     "text": [
      "Step #675.00 (0ms ?*RT. ?UPS, vehicles TOT 300 ACT 0 BUF 0)                               \n",
      "  Individual 6: Fitness = -129303731.95000765\n",
      "Generation 2\n"
     ]
    },
    {
     "name": "stderr",
     "output_type": "stream",
     "text": [
      "Warning: At actuated tlLogic '5249323417', actuated phase 1 has no controlling detector.\n",
      "Warning: At actuated tlLogic '5249323417', actuated phase 3 has no controlling detector.\n"
     ]
    },
    {
     "name": "stdout",
     "output_type": "stream",
     "text": [
      "Step #588.00 (0ms ?*RT. ?UPS, vehicles TOT 300 ACT 0 BUF 0)                               \n",
      "  Individual 1: Fitness = -117745941.5300093\n"
     ]
    },
    {
     "name": "stderr",
     "output_type": "stream",
     "text": [
      "Warning: At actuated tlLogic '5249323417', actuated phase 1 has no controlling detector.\n",
      "Warning: At actuated tlLogic '5249323417', actuated phase 3 has no controlling detector.\n"
     ]
    },
    {
     "name": "stdout",
     "output_type": "stream",
     "text": [
      "Step #562.00 (0ms ?*RT. ?UPS, vehicles TOT 300 ACT 0 BUF 0)                               \n",
      "  Individual 2: Fitness = -110132423.25000435\n"
     ]
    },
    {
     "name": "stderr",
     "output_type": "stream",
     "text": [
      "Warning: At actuated tlLogic '5249323417', actuated phase 1 has no controlling detector.\n",
      "Warning: At actuated tlLogic '5249323417', actuated phase 3 has no controlling detector.\n"
     ]
    },
    {
     "name": "stdout",
     "output_type": "stream",
     "text": [
      "Step #562.00 (0ms ?*RT. ?UPS, vehicles TOT 300 ACT 0 BUF 0)                               \n",
      "  Individual 3: Fitness = -110132423.25000435\n"
     ]
    },
    {
     "name": "stderr",
     "output_type": "stream",
     "text": [
      "Warning: At actuated tlLogic '5249323417', actuated phase 1 has no controlling detector.\n",
      "Warning: At actuated tlLogic '5249323417', actuated phase 3 has no controlling detector.\n"
     ]
    },
    {
     "name": "stdout",
     "output_type": "stream",
     "text": [
      "Step #562.00 (0ms ?*RT. ?UPS, vehicles TOT 300 ACT 0 BUF 0)                               \n",
      "  Individual 4: Fitness = -110132423.25000435\n"
     ]
    },
    {
     "name": "stderr",
     "output_type": "stream",
     "text": [
      "Warning: At actuated tlLogic '5249323417', actuated phase 1 has no controlling detector.\n",
      "Warning: At actuated tlLogic '5249323417', actuated phase 3 has no controlling detector.\n"
     ]
    },
    {
     "name": "stdout",
     "output_type": "stream",
     "text": [
      "Step #583.00 (0ms ?*RT. ?UPS, vehicles TOT 300 ACT 0 BUF 0)                               \n",
      "  Individual 5: Fitness = -115091262.17000741\n"
     ]
    },
    {
     "name": "stderr",
     "output_type": "stream",
     "text": [
      "Warning: At actuated tlLogic '5249323417', actuated phase 1 has no controlling detector.\n",
      "Warning: At actuated tlLogic '5249323417', actuated phase 3 has no controlling detector.\n"
     ]
    },
    {
     "name": "stdout",
     "output_type": "stream",
     "text": [
      "Step #583.00 (0ms ?*RT. ?UPS, vehicles TOT 300 ACT 0 BUF 0)                               \n",
      "  Individual 6: Fitness = -115091262.17000741\n",
      "Generation 3\n"
     ]
    },
    {
     "name": "stderr",
     "output_type": "stream",
     "text": [
      "Warning: At actuated tlLogic '5249323417', actuated phase 1 has no controlling detector.\n",
      "Warning: At actuated tlLogic '5249323417', actuated phase 3 has no controlling detector.\n"
     ]
    },
    {
     "name": "stdout",
     "output_type": "stream",
     "text": [
      "Step #613.00 (0ms ?*RT. ?UPS, vehicles TOT 300 ACT 0 BUF 0)                               \n",
      "  Individual 1: Fitness = -127932001.9400106\n"
     ]
    },
    {
     "name": "stderr",
     "output_type": "stream",
     "text": [
      "Warning: At actuated tlLogic '5249323417', actuated phase 1 has no controlling detector.\n",
      "Warning: At actuated tlLogic '5249323417', actuated phase 3 has no controlling detector.\n"
     ]
    },
    {
     "name": "stdout",
     "output_type": "stream",
     "text": [
      "Step #613.00 (0ms ?*RT. ?UPS, vehicles TOT 300 ACT 0 BUF 0)                               \n",
      "  Individual 2: Fitness = -127932001.9400106\n"
     ]
    },
    {
     "name": "stderr",
     "output_type": "stream",
     "text": [
      "Warning: At actuated tlLogic '5249323417', actuated phase 1 has no controlling detector.\n",
      "Warning: At actuated tlLogic '5249323417', actuated phase 3 has no controlling detector.\n"
     ]
    },
    {
     "name": "stdout",
     "output_type": "stream",
     "text": [
      "Step #613.00 (0ms ?*RT. ?UPS, vehicles TOT 300 ACT 0 BUF 0)                               \n",
      "  Individual 3: Fitness = -127932001.9400106\n"
     ]
    },
    {
     "name": "stderr",
     "output_type": "stream",
     "text": [
      "Warning: At actuated tlLogic '5249323417', actuated phase 1 has no controlling detector.\n",
      "Warning: At actuated tlLogic '5249323417', actuated phase 3 has no controlling detector.\n"
     ]
    },
    {
     "name": "stdout",
     "output_type": "stream",
     "text": [
      "Step #613.00 (0ms ?*RT. ?UPS, vehicles TOT 300 ACT 0 BUF 0)                               \n",
      "  Individual 4: Fitness = -127932001.9400106\n"
     ]
    },
    {
     "name": "stderr",
     "output_type": "stream",
     "text": [
      "Warning: At actuated tlLogic '5249323417', actuated phase 1 has no controlling detector.\n",
      "Warning: At actuated tlLogic '5249323417', actuated phase 3 has no controlling detector.\n"
     ]
    },
    {
     "name": "stdout",
     "output_type": "stream",
     "text": [
      "Step #613.00 (1ms ~= 1000.00*RT, ~0.00UPS, vehicles TOT 300 ACT 0 BUF 0)                  \n",
      "  Individual 5: Fitness = -127932001.9400106\n"
     ]
    },
    {
     "name": "stderr",
     "output_type": "stream",
     "text": [
      "Warning: At actuated tlLogic '5249323417', actuated phase 1 has no controlling detector.\n",
      "Warning: At actuated tlLogic '5249323417', actuated phase 3 has no controlling detector.\n"
     ]
    },
    {
     "name": "stdout",
     "output_type": "stream",
     "text": [
      "Step #613.00 (0ms ?*RT. ?UPS, vehicles TOT 300 ACT 0 BUF 0)                               \n",
      "  Individual 6: Fitness = -127932001.9400106\n",
      "Generation 4\n"
     ]
    },
    {
     "name": "stderr",
     "output_type": "stream",
     "text": [
      "Warning: At actuated tlLogic '5249323417', actuated phase 1 has no controlling detector.\n",
      "Warning: At actuated tlLogic '5249323417', actuated phase 3 has no controlling detector.\n"
     ]
    },
    {
     "name": "stdout",
     "output_type": "stream",
     "text": [
      "Step #565.00 (0ms ?*RT. ?UPS, vehicles TOT 300 ACT 0 BUF 0)                               \n",
      "  Individual 1: Fitness = -104504180.15000196\n"
     ]
    },
    {
     "name": "stderr",
     "output_type": "stream",
     "text": [
      "Warning: At actuated tlLogic '5249323417', actuated phase 1 has no controlling detector.\n",
      "Warning: At actuated tlLogic '5249323417', actuated phase 3 has no controlling detector.\n"
     ]
    },
    {
     "name": "stdout",
     "output_type": "stream",
     "text": [
      "Step #565.00 (0ms ?*RT. ?UPS, vehicles TOT 300 ACT 0 BUF 0)                               \n",
      "  Individual 2: Fitness = -104504180.15000196\n"
     ]
    },
    {
     "name": "stderr",
     "output_type": "stream",
     "text": [
      "Warning: At actuated tlLogic '5249323417', actuated phase 1 has no controlling detector.\n",
      "Warning: At actuated tlLogic '5249323417', actuated phase 3 has no controlling detector.\n"
     ]
    },
    {
     "name": "stdout",
     "output_type": "stream",
     "text": [
      "Step #565.00 (0ms ?*RT. ?UPS, vehicles TOT 300 ACT 0 BUF 0)                               \n",
      "  Individual 3: Fitness = -104504180.15000196\n"
     ]
    },
    {
     "name": "stderr",
     "output_type": "stream",
     "text": [
      "Warning: At actuated tlLogic '5249323417', actuated phase 1 has no controlling detector.\n",
      "Warning: At actuated tlLogic '5249323417', actuated phase 3 has no controlling detector.\n"
     ]
    },
    {
     "name": "stdout",
     "output_type": "stream",
     "text": [
      "Step #565.00 (0ms ?*RT. ?UPS, vehicles TOT 300 ACT 0 BUF 0)                               \n",
      "  Individual 4: Fitness = -104504180.15000196\n"
     ]
    },
    {
     "name": "stderr",
     "output_type": "stream",
     "text": [
      "Warning: At actuated tlLogic '5249323417', actuated phase 1 has no controlling detector.\n",
      "Warning: At actuated tlLogic '5249323417', actuated phase 3 has no controlling detector.\n"
     ]
    },
    {
     "name": "stdout",
     "output_type": "stream",
     "text": [
      "Step #565.00 (0ms ?*RT. ?UPS, vehicles TOT 300 ACT 0 BUF 0)                               \n",
      "  Individual 5: Fitness = -104504180.15000196\n"
     ]
    },
    {
     "name": "stderr",
     "output_type": "stream",
     "text": [
      "Warning: At actuated tlLogic '5249323417', actuated phase 1 has no controlling detector.\n",
      "Warning: At actuated tlLogic '5249323417', actuated phase 3 has no controlling detector.\n"
     ]
    },
    {
     "name": "stdout",
     "output_type": "stream",
     "text": [
      "Step #565.00 (0ms ?*RT. ?UPS, vehicles TOT 300 ACT 0 BUF 0)                               \n",
      "  Individual 6: Fitness = -104504180.15000196\n",
      "Generation 5\n"
     ]
    },
    {
     "name": "stderr",
     "output_type": "stream",
     "text": [
      "Warning: At actuated tlLogic '5249323417', actuated phase 1 has no controlling detector.\n",
      "Warning: At actuated tlLogic '5249323417', actuated phase 3 has no controlling detector.\n"
     ]
    },
    {
     "name": "stdout",
     "output_type": "stream",
     "text": [
      "Step #554.00 (0ms ?*RT. ?UPS, vehicles TOT 300 ACT 0 BUF 0)                               \n",
      "  Individual 1: Fitness = -105911379.3300051\n"
     ]
    },
    {
     "name": "stderr",
     "output_type": "stream",
     "text": [
      "Warning: At actuated tlLogic '5249323417', actuated phase 1 has no controlling detector.\n",
      "Warning: At actuated tlLogic '5249323417', actuated phase 3 has no controlling detector.\n"
     ]
    },
    {
     "name": "stdout",
     "output_type": "stream",
     "text": [
      "Step #554.00 (0ms ?*RT. ?UPS, vehicles TOT 300 ACT 0 BUF 0)                               \n",
      "  Individual 2: Fitness = -105911379.3300051\n"
     ]
    },
    {
     "name": "stderr",
     "output_type": "stream",
     "text": [
      "Warning: At actuated tlLogic '5249323417', actuated phase 1 has no controlling detector.\n",
      "Warning: At actuated tlLogic '5249323417', actuated phase 3 has no controlling detector.\n"
     ]
    },
    {
     "name": "stdout",
     "output_type": "stream",
     "text": [
      "Step #554.00 (0ms ?*RT. ?UPS, vehicles TOT 300 ACT 0 BUF 0)                               \n",
      "  Individual 3: Fitness = -105911379.3300051\n"
     ]
    },
    {
     "name": "stderr",
     "output_type": "stream",
     "text": [
      "Warning: At actuated tlLogic '5249323417', actuated phase 1 has no controlling detector.\n",
      "Warning: At actuated tlLogic '5249323417', actuated phase 3 has no controlling detector.\n"
     ]
    },
    {
     "name": "stdout",
     "output_type": "stream",
     "text": [
      "Step #554.00 (0ms ?*RT. ?UPS, vehicles TOT 300 ACT 0 BUF 0)                               \n",
      "  Individual 4: Fitness = -105911379.3300051\n"
     ]
    },
    {
     "name": "stderr",
     "output_type": "stream",
     "text": [
      "Warning: At actuated tlLogic '5249323417', actuated phase 1 has no controlling detector.\n",
      "Warning: At actuated tlLogic '5249323417', actuated phase 3 has no controlling detector.\n"
     ]
    },
    {
     "name": "stdout",
     "output_type": "stream",
     "text": [
      "Step #554.00 (0ms ?*RT. ?UPS, vehicles TOT 300 ACT 0 BUF 0)                               \n",
      "  Individual 5: Fitness = -105911379.3300051\n"
     ]
    },
    {
     "name": "stderr",
     "output_type": "stream",
     "text": [
      "Warning: At actuated tlLogic '5249323417', actuated phase 1 has no controlling detector.\n",
      "Warning: At actuated tlLogic '5249323417', actuated phase 3 has no controlling detector.\n"
     ]
    },
    {
     "name": "stdout",
     "output_type": "stream",
     "text": [
      "Step #554.00 (0ms ?*RT. ?UPS, vehicles TOT 300 ACT 0 BUF 0)                               \n",
      "  Individual 6: Fitness = -105911379.3300051\n",
      "Generation 6\n"
     ]
    },
    {
     "name": "stderr",
     "output_type": "stream",
     "text": [
      "Warning: At actuated tlLogic '5249323417', actuated phase 1 has no controlling detector.\n",
      "Warning: At actuated tlLogic '5249323417', actuated phase 3 has no controlling detector.\n"
     ]
    },
    {
     "name": "stdout",
     "output_type": "stream",
     "text": [
      "Step #647.00 (0ms ?*RT. ?UPS, vehicles TOT 300 ACT 0 BUF 0)                               \n",
      "  Individual 1: Fitness = -131439323.8600108\n"
     ]
    },
    {
     "name": "stderr",
     "output_type": "stream",
     "text": [
      "Warning: At actuated tlLogic '5249323417', actuated phase 1 has no controlling detector.\n",
      "Warning: At actuated tlLogic '5249323417', actuated phase 3 has no controlling detector.\n"
     ]
    },
    {
     "name": "stdout",
     "output_type": "stream",
     "text": [
      "Step #647.00 (0ms ?*RT. ?UPS, vehicles TOT 300 ACT 0 BUF 0)                               \n",
      "  Individual 2: Fitness = -131439323.8600108\n"
     ]
    },
    {
     "name": "stderr",
     "output_type": "stream",
     "text": [
      "Warning: At actuated tlLogic '5249323417', actuated phase 1 has no controlling detector.\n",
      "Warning: At actuated tlLogic '5249323417', actuated phase 3 has no controlling detector.\n"
     ]
    },
    {
     "name": "stdout",
     "output_type": "stream",
     "text": [
      "Step #647.00 (0ms ?*RT. ?UPS, vehicles TOT 300 ACT 0 BUF 0)                               \n",
      "  Individual 3: Fitness = -131439323.8600108\n"
     ]
    },
    {
     "name": "stderr",
     "output_type": "stream",
     "text": [
      "Warning: At actuated tlLogic '5249323417', actuated phase 1 has no controlling detector.\n",
      "Warning: At actuated tlLogic '5249323417', actuated phase 3 has no controlling detector.\n"
     ]
    },
    {
     "name": "stdout",
     "output_type": "stream",
     "text": [
      "Step #647.00 (0ms ?*RT. ?UPS, vehicles TOT 300 ACT 0 BUF 0)                               \n",
      "  Individual 4: Fitness = -131439323.8600108\n"
     ]
    },
    {
     "name": "stderr",
     "output_type": "stream",
     "text": [
      "Warning: At actuated tlLogic '5249323417', actuated phase 1 has no controlling detector.\n",
      "Warning: At actuated tlLogic '5249323417', actuated phase 3 has no controlling detector.\n"
     ]
    },
    {
     "name": "stdout",
     "output_type": "stream",
     "text": [
      "Step #647.00 (0ms ?*RT. ?UPS, vehicles TOT 300 ACT 0 BUF 0)                               \n",
      "  Individual 5: Fitness = -131439323.8600108\n"
     ]
    },
    {
     "name": "stderr",
     "output_type": "stream",
     "text": [
      "Warning: At actuated tlLogic '5249323417', actuated phase 1 has no controlling detector.\n",
      "Warning: At actuated tlLogic '5249323417', actuated phase 3 has no controlling detector.\n"
     ]
    },
    {
     "name": "stdout",
     "output_type": "stream",
     "text": [
      "Step #647.00 (0ms ?*RT. ?UPS, vehicles TOT 300 ACT 0 BUF 0)                               \n",
      "  Individual 6: Fitness = -131439323.8600108\n",
      "Generation 7\n"
     ]
    },
    {
     "name": "stderr",
     "output_type": "stream",
     "text": [
      "Warning: At actuated tlLogic '5249323417', actuated phase 1 has no controlling detector.\n",
      "Warning: At actuated tlLogic '5249323417', actuated phase 3 has no controlling detector.\n"
     ]
    },
    {
     "name": "stdout",
     "output_type": "stream",
     "text": [
      "Step #809.00 (0ms ?*RT. ?UPS, vehicles TOT 300 ACT 0 BUF 0)                               \n",
      "  Individual 1: Fitness = -153885218.02002472\n"
     ]
    },
    {
     "name": "stderr",
     "output_type": "stream",
     "text": [
      "Warning: At actuated tlLogic '5249323417', actuated phase 1 has no controlling detector.\n",
      "Warning: At actuated tlLogic '5249323417', actuated phase 3 has no controlling detector.\n"
     ]
    },
    {
     "name": "stdout",
     "output_type": "stream",
     "text": [
      "Step #809.00 (0ms ?*RT. ?UPS, vehicles TOT 300 ACT 0 BUF 0)                               \n",
      "  Individual 2: Fitness = -153885218.02002472\n"
     ]
    },
    {
     "name": "stderr",
     "output_type": "stream",
     "text": [
      "Warning: At actuated tlLogic '5249323417', actuated phase 1 has no controlling detector.\n",
      "Warning: At actuated tlLogic '5249323417', actuated phase 3 has no controlling detector.\n"
     ]
    },
    {
     "name": "stdout",
     "output_type": "stream",
     "text": [
      "Step #809.00 (0ms ?*RT. ?UPS, vehicles TOT 300 ACT 0 BUF 0)                               \n",
      "  Individual 3: Fitness = -153885218.02002472\n"
     ]
    },
    {
     "name": "stderr",
     "output_type": "stream",
     "text": [
      "Warning: At actuated tlLogic '5249323417', actuated phase 1 has no controlling detector.\n",
      "Warning: At actuated tlLogic '5249323417', actuated phase 3 has no controlling detector.\n"
     ]
    },
    {
     "name": "stdout",
     "output_type": "stream",
     "text": [
      "Step #809.00 (0ms ?*RT. ?UPS, vehicles TOT 300 ACT 0 BUF 0)                               \n",
      "  Individual 4: Fitness = -153885218.02002472\n"
     ]
    },
    {
     "name": "stderr",
     "output_type": "stream",
     "text": [
      "Warning: At actuated tlLogic '5249323417', actuated phase 1 has no controlling detector.\n",
      "Warning: At actuated tlLogic '5249323417', actuated phase 3 has no controlling detector.\n"
     ]
    },
    {
     "name": "stdout",
     "output_type": "stream",
     "text": [
      "Step #809.00 (0ms ?*RT. ?UPS, vehicles TOT 300 ACT 0 BUF 0)                               \n",
      "  Individual 5: Fitness = -153885218.02002472\n"
     ]
    },
    {
     "name": "stderr",
     "output_type": "stream",
     "text": [
      "Warning: At actuated tlLogic '5249323417', actuated phase 1 has no controlling detector.\n",
      "Warning: At actuated tlLogic '5249323417', actuated phase 3 has no controlling detector.\n"
     ]
    },
    {
     "name": "stdout",
     "output_type": "stream",
     "text": [
      "Step #809.00 (0ms ?*RT. ?UPS, vehicles TOT 300 ACT 0 BUF 0)                               \n",
      "  Individual 6: Fitness = -153885218.02002472\n",
      "Generation 8\n"
     ]
    },
    {
     "name": "stderr",
     "output_type": "stream",
     "text": [
      "Warning: At actuated tlLogic '5249323417', actuated phase 1 has no controlling detector.\n",
      "Warning: At actuated tlLogic '5249323417', actuated phase 3 has no controlling detector.\n"
     ]
    },
    {
     "name": "stdout",
     "output_type": "stream",
     "text": [
      "Step #800.00 (0ms ?*RT. ?UPS, vehicles TOT 300 ACT 120 BUF 0)                             \r"
     ]
    },
    {
     "name": "stderr",
     "output_type": "stream",
     "text": [
      "Warning: Teleporting vehicle '299'; waited too long (yield), lane='603453229#0_1', time=658.00.\n",
      "Warning: Teleporting vehicle '190'; waited too long (yield), lane='-1180129284_1', time=730.00.\n",
      "Warning: Teleporting vehicle '110'; waited too long (yield), lane=':25840399_5_0', time=740.00.\n",
      "Warning: Vehicle '110' ends teleporting on edge '-312144762#2', time=740.00.\n",
      "Warning: Teleporting vehicle '217'; waited too long (wrong lane), lane='312144760#0_0', time=741.00.\n",
      "Warning: Vehicle '217' ends teleporting on edge '-312144762#2', time=741.00.\n",
      "Warning: Teleporting vehicle '259'; waited too long (wrong lane), lane='312144760#0_0', time=752.00.\n",
      "Warning: Vehicle '259' ends teleporting on edge '-312144762#2', time=752.00.\n",
      "Warning: Teleporting vehicle '171'; waited too long (jam), lane='312144764_1', time=760.00.\n",
      "Warning: Vehicle '299' ends teleporting on edge '312144764', time=778.00.\n",
      "Warning: Teleporting vehicle '280'; waited too long (jam), lane='312144764_0', time=790.00.\n",
      "Warning: Vehicle '171' ends teleporting on edge '-312144762#2', time=798.00.\n",
      "Warning: Vehicle '190' ends teleporting on edge '25401295#0', time=814.00.\n",
      "Warning: Vehicle '280' ends teleporting on edge '-312144762#2', time=870.00.\n"
     ]
    },
    {
     "name": "stdout",
     "output_type": "stream",
     "text": [
      "Step #1227.00 (0ms ?*RT. ?UPS, vehicles TOT 300 ACT 0 BUF 0)                              \n",
      "  Individual 1: Fitness = -288865233.97010314\n"
     ]
    },
    {
     "name": "stderr",
     "output_type": "stream",
     "text": [
      "Warning: At actuated tlLogic '5249323417', actuated phase 1 has no controlling detector.\n",
      "Warning: At actuated tlLogic '5249323417', actuated phase 3 has no controlling detector.\n"
     ]
    },
    {
     "name": "stdout",
     "output_type": "stream",
     "text": [
      "Step #800.00 (0ms ?*RT. ?UPS, vehicles TOT 300 ACT 120 BUF 0)                             \r"
     ]
    },
    {
     "name": "stderr",
     "output_type": "stream",
     "text": [
      "Warning: Teleporting vehicle '299'; waited too long (yield), lane='603453229#0_1', time=658.00.\n",
      "Warning: Teleporting vehicle '190'; waited too long (yield), lane='-1180129284_1', time=730.00.\n",
      "Warning: Teleporting vehicle '110'; waited too long (yield), lane=':25840399_5_0', time=740.00.\n",
      "Warning: Vehicle '110' ends teleporting on edge '-312144762#2', time=740.00.\n",
      "Warning: Teleporting vehicle '217'; waited too long (wrong lane), lane='312144760#0_0', time=741.00.\n",
      "Warning: Vehicle '217' ends teleporting on edge '-312144762#2', time=741.00.\n",
      "Warning: Teleporting vehicle '259'; waited too long (wrong lane), lane='312144760#0_0', time=752.00.\n",
      "Warning: Vehicle '259' ends teleporting on edge '-312144762#2', time=752.00.\n",
      "Warning: Teleporting vehicle '171'; waited too long (jam), lane='312144764_1', time=760.00.\n",
      "Warning: Vehicle '299' ends teleporting on edge '312144764', time=778.00.\n",
      "Warning: Teleporting vehicle '280'; waited too long (jam), lane='312144764_0', time=790.00.\n",
      "Warning: Vehicle '171' ends teleporting on edge '-312144762#2', time=798.00.\n",
      "Warning: Vehicle '190' ends teleporting on edge '25401295#0', time=814.00.\n",
      "Warning: Vehicle '280' ends teleporting on edge '-312144762#2', time=870.00.\n"
     ]
    },
    {
     "name": "stdout",
     "output_type": "stream",
     "text": [
      "Step #1227.00 (0ms ?*RT. ?UPS, vehicles TOT 300 ACT 0 BUF 0)                              \n",
      "  Individual 2: Fitness = -288865233.97010314\n"
     ]
    },
    {
     "name": "stderr",
     "output_type": "stream",
     "text": [
      "Warning: At actuated tlLogic '5249323417', actuated phase 1 has no controlling detector.\n",
      "Warning: At actuated tlLogic '5249323417', actuated phase 3 has no controlling detector.\n"
     ]
    },
    {
     "name": "stdout",
     "output_type": "stream",
     "text": [
      "Step #800.00 (0ms ?*RT. ?UPS, vehicles TOT 300 ACT 120 BUF 0)                             \r"
     ]
    },
    {
     "name": "stderr",
     "output_type": "stream",
     "text": [
      "Warning: Teleporting vehicle '299'; waited too long (yield), lane='603453229#0_1', time=658.00.\n",
      "Warning: Teleporting vehicle '190'; waited too long (yield), lane='-1180129284_1', time=730.00.\n",
      "Warning: Teleporting vehicle '110'; waited too long (yield), lane=':25840399_5_0', time=740.00.\n",
      "Warning: Vehicle '110' ends teleporting on edge '-312144762#2', time=740.00.\n",
      "Warning: Teleporting vehicle '217'; waited too long (wrong lane), lane='312144760#0_0', time=741.00.\n",
      "Warning: Vehicle '217' ends teleporting on edge '-312144762#2', time=741.00.\n",
      "Warning: Teleporting vehicle '259'; waited too long (wrong lane), lane='312144760#0_0', time=752.00.\n",
      "Warning: Vehicle '259' ends teleporting on edge '-312144762#2', time=752.00.\n",
      "Warning: Teleporting vehicle '171'; waited too long (jam), lane='312144764_1', time=760.00.\n",
      "Warning: Vehicle '299' ends teleporting on edge '312144764', time=778.00.\n",
      "Warning: Teleporting vehicle '280'; waited too long (jam), lane='312144764_0', time=790.00.\n",
      "Warning: Vehicle '171' ends teleporting on edge '-312144762#2', time=798.00.\n",
      "Warning: Vehicle '190' ends teleporting on edge '25401295#0', time=814.00.\n",
      "Warning: Vehicle '280' ends teleporting on edge '-312144762#2', time=870.00.\n"
     ]
    },
    {
     "name": "stdout",
     "output_type": "stream",
     "text": [
      "Step #1227.00 (0ms ?*RT. ?UPS, vehicles TOT 300 ACT 0 BUF 0)                              \n",
      "  Individual 3: Fitness = -288865233.97010314\n"
     ]
    },
    {
     "name": "stderr",
     "output_type": "stream",
     "text": [
      "Warning: At actuated tlLogic '5249323417', actuated phase 1 has no controlling detector.\n",
      "Warning: At actuated tlLogic '5249323417', actuated phase 3 has no controlling detector.\n"
     ]
    },
    {
     "name": "stdout",
     "output_type": "stream",
     "text": [
      "Step #800.00 (0ms ?*RT. ?UPS, vehicles TOT 300 ACT 120 BUF 0)                             \r"
     ]
    },
    {
     "name": "stderr",
     "output_type": "stream",
     "text": [
      "Warning: Teleporting vehicle '299'; waited too long (yield), lane='603453229#0_1', time=658.00.\n",
      "Warning: Teleporting vehicle '190'; waited too long (yield), lane='-1180129284_1', time=730.00.\n",
      "Warning: Teleporting vehicle '110'; waited too long (yield), lane=':25840399_5_0', time=740.00.\n",
      "Warning: Vehicle '110' ends teleporting on edge '-312144762#2', time=740.00.\n",
      "Warning: Teleporting vehicle '217'; waited too long (wrong lane), lane='312144760#0_0', time=741.00.\n",
      "Warning: Vehicle '217' ends teleporting on edge '-312144762#2', time=741.00.\n",
      "Warning: Teleporting vehicle '259'; waited too long (wrong lane), lane='312144760#0_0', time=752.00.\n",
      "Warning: Vehicle '259' ends teleporting on edge '-312144762#2', time=752.00.\n",
      "Warning: Teleporting vehicle '171'; waited too long (jam), lane='312144764_1', time=760.00.\n",
      "Warning: Vehicle '299' ends teleporting on edge '312144764', time=778.00.\n",
      "Warning: Teleporting vehicle '280'; waited too long (jam), lane='312144764_0', time=790.00.\n",
      "Warning: Vehicle '171' ends teleporting on edge '-312144762#2', time=798.00.\n",
      "Warning: Vehicle '190' ends teleporting on edge '25401295#0', time=814.00.\n",
      "Warning: Vehicle '280' ends teleporting on edge '-312144762#2', time=870.00.\n"
     ]
    },
    {
     "name": "stdout",
     "output_type": "stream",
     "text": [
      "Step #1227.00 (0ms ?*RT. ?UPS, vehicles TOT 300 ACT 0 BUF 0)                              \n",
      "  Individual 4: Fitness = -288865233.97010314\n"
     ]
    },
    {
     "name": "stderr",
     "output_type": "stream",
     "text": [
      "Warning: At actuated tlLogic '5249323417', actuated phase 1 has no controlling detector.\n",
      "Warning: At actuated tlLogic '5249323417', actuated phase 3 has no controlling detector.\n"
     ]
    },
    {
     "name": "stdout",
     "output_type": "stream",
     "text": [
      "Step #800.00 (0ms ?*RT. ?UPS, vehicles TOT 300 ACT 120 BUF 0)                             \r"
     ]
    },
    {
     "name": "stderr",
     "output_type": "stream",
     "text": [
      "Warning: Teleporting vehicle '299'; waited too long (yield), lane='603453229#0_1', time=658.00.\n",
      "Warning: Teleporting vehicle '190'; waited too long (yield), lane='-1180129284_1', time=730.00.\n",
      "Warning: Teleporting vehicle '110'; waited too long (yield), lane=':25840399_5_0', time=740.00.\n",
      "Warning: Vehicle '110' ends teleporting on edge '-312144762#2', time=740.00.\n",
      "Warning: Teleporting vehicle '217'; waited too long (wrong lane), lane='312144760#0_0', time=741.00.\n",
      "Warning: Vehicle '217' ends teleporting on edge '-312144762#2', time=741.00.\n",
      "Warning: Teleporting vehicle '259'; waited too long (wrong lane), lane='312144760#0_0', time=752.00.\n",
      "Warning: Vehicle '259' ends teleporting on edge '-312144762#2', time=752.00.\n",
      "Warning: Teleporting vehicle '171'; waited too long (jam), lane='312144764_1', time=760.00.\n",
      "Warning: Vehicle '299' ends teleporting on edge '312144764', time=778.00.\n",
      "Warning: Teleporting vehicle '280'; waited too long (jam), lane='312144764_0', time=790.00.\n",
      "Warning: Vehicle '171' ends teleporting on edge '-312144762#2', time=798.00.\n",
      "Warning: Vehicle '190' ends teleporting on edge '25401295#0', time=814.00.\n",
      "Warning: Vehicle '280' ends teleporting on edge '-312144762#2', time=870.00.\n"
     ]
    },
    {
     "name": "stdout",
     "output_type": "stream",
     "text": [
      "Step #1227.00 (0ms ?*RT. ?UPS, vehicles TOT 300 ACT 0 BUF 0)                              \n",
      "  Individual 5: Fitness = -288865233.97010314\n"
     ]
    },
    {
     "name": "stderr",
     "output_type": "stream",
     "text": [
      "Warning: At actuated tlLogic '5249323417', actuated phase 1 has no controlling detector.\n",
      "Warning: At actuated tlLogic '5249323417', actuated phase 3 has no controlling detector.\n"
     ]
    },
    {
     "name": "stdout",
     "output_type": "stream",
     "text": [
      "Step #800.00 (0ms ?*RT. ?UPS, vehicles TOT 300 ACT 120 BUF 0)                             \r"
     ]
    },
    {
     "name": "stderr",
     "output_type": "stream",
     "text": [
      "Warning: Teleporting vehicle '299'; waited too long (yield), lane='603453229#0_1', time=658.00.\n",
      "Warning: Teleporting vehicle '190'; waited too long (yield), lane='-1180129284_1', time=730.00.\n",
      "Warning: Teleporting vehicle '110'; waited too long (yield), lane=':25840399_5_0', time=740.00.\n",
      "Warning: Vehicle '110' ends teleporting on edge '-312144762#2', time=740.00.\n",
      "Warning: Teleporting vehicle '217'; waited too long (wrong lane), lane='312144760#0_0', time=741.00.\n",
      "Warning: Vehicle '217' ends teleporting on edge '-312144762#2', time=741.00.\n",
      "Warning: Teleporting vehicle '259'; waited too long (wrong lane), lane='312144760#0_0', time=752.00.\n",
      "Warning: Vehicle '259' ends teleporting on edge '-312144762#2', time=752.00.\n",
      "Warning: Teleporting vehicle '171'; waited too long (jam), lane='312144764_1', time=760.00.\n",
      "Warning: Vehicle '299' ends teleporting on edge '312144764', time=778.00.\n",
      "Warning: Teleporting vehicle '280'; waited too long (jam), lane='312144764_0', time=790.00.\n",
      "Warning: Vehicle '171' ends teleporting on edge '-312144762#2', time=798.00.\n",
      "Warning: Vehicle '190' ends teleporting on edge '25401295#0', time=814.00.\n",
      "Warning: Vehicle '280' ends teleporting on edge '-312144762#2', time=870.00.\n"
     ]
    },
    {
     "name": "stdout",
     "output_type": "stream",
     "text": [
      "Step #1227.00 (0ms ?*RT. ?UPS, vehicles TOT 300 ACT 0 BUF 0)                              \n",
      "  Individual 6: Fitness = -288865233.97010314\n",
      "Generation 9\n"
     ]
    },
    {
     "name": "stderr",
     "output_type": "stream",
     "text": [
      "Warning: At actuated tlLogic '5249323417', actuated phase 1 has no controlling detector.\n",
      "Warning: At actuated tlLogic '5249323417', actuated phase 3 has no controlling detector.\n"
     ]
    },
    {
     "name": "stdout",
     "output_type": "stream",
     "text": [
      "Step #757.00 (0ms ?*RT. ?UPS, vehicles TOT 300 ACT 0 BUF 0)                               \n",
      "  Individual 1: Fitness = -171182776.29003257\n"
     ]
    },
    {
     "name": "stderr",
     "output_type": "stream",
     "text": [
      "Warning: At actuated tlLogic '5249323417', actuated phase 1 has no controlling detector.\n",
      "Warning: At actuated tlLogic '5249323417', actuated phase 3 has no controlling detector.\n"
     ]
    },
    {
     "name": "stdout",
     "output_type": "stream",
     "text": [
      "Step #757.00 (0ms ?*RT. ?UPS, vehicles TOT 300 ACT 0 BUF 0)                               \n",
      "  Individual 2: Fitness = -171182776.29003257\n"
     ]
    },
    {
     "name": "stderr",
     "output_type": "stream",
     "text": [
      "Warning: At actuated tlLogic '5249323417', actuated phase 1 has no controlling detector.\n",
      "Warning: At actuated tlLogic '5249323417', actuated phase 3 has no controlling detector.\n"
     ]
    },
    {
     "name": "stdout",
     "output_type": "stream",
     "text": [
      "Step #757.00 (0ms ?*RT. ?UPS, vehicles TOT 300 ACT 0 BUF 0)                               \n",
      "  Individual 3: Fitness = -171182776.29003257\n"
     ]
    },
    {
     "name": "stderr",
     "output_type": "stream",
     "text": [
      "Warning: At actuated tlLogic '5249323417', actuated phase 1 has no controlling detector.\n",
      "Warning: At actuated tlLogic '5249323417', actuated phase 3 has no controlling detector.\n"
     ]
    },
    {
     "name": "stdout",
     "output_type": "stream",
     "text": [
      "Step #757.00 (0ms ?*RT. ?UPS, vehicles TOT 300 ACT 0 BUF 0)                               \n",
      "  Individual 4: Fitness = -171182776.29003257\n"
     ]
    },
    {
     "name": "stderr",
     "output_type": "stream",
     "text": [
      "Warning: At actuated tlLogic '5249323417', actuated phase 1 has no controlling detector.\n",
      "Warning: At actuated tlLogic '5249323417', actuated phase 3 has no controlling detector.\n"
     ]
    },
    {
     "name": "stdout",
     "output_type": "stream",
     "text": [
      "Step #757.00 (0ms ?*RT. ?UPS, vehicles TOT 300 ACT 0 BUF 0)                               \n",
      "  Individual 5: Fitness = -171182776.29003257\n"
     ]
    },
    {
     "name": "stderr",
     "output_type": "stream",
     "text": [
      "Warning: At actuated tlLogic '5249323417', actuated phase 1 has no controlling detector.\n",
      "Warning: At actuated tlLogic '5249323417', actuated phase 3 has no controlling detector.\n"
     ]
    },
    {
     "name": "stdout",
     "output_type": "stream",
     "text": [
      "Step #757.00 (0ms ?*RT. ?UPS, vehicles TOT 300 ACT 0 BUF 0)                               \n",
      "  Individual 6: Fitness = -171182776.29003257\n",
      "GA complete.\n",
      "All variants summary written to sumo/run_20250728_115800/ga_top_variants.csv\n"
     ]
    }
   ],
   "source": [
    "# Run the Genetic Algorithm (from Python)\n",
    "import sys\n",
    "import datetime\n",
    "sys.path.append('scripts')\n",
    "from ga import genetic_algorithm\n",
    "from run_sumo import run_sumo\n",
    "\n",
    "#########Change these to match your paths#########################\n",
    "input_dir = 'sumo/defaults/mckenzie/verybasic'  # Folder with .net.xml and .rou.xml\n",
    "# Generate a unique output directory name with timestamp\n",
    "timestamp = datetime.datetime.now().strftime('%Y%m%d_%H%M%S')\n",
    "output_dir = f'sumo/run_{timestamp}'   # Output folder for results\n",
    "working_dir = f'{output_dir}/genes'\n",
    "num_generations = 9\n",
    "##################################################################\n",
    "\n",
    "genetic_algorithm(\n",
    "    input_dir=input_dir,\n",
    "    working_dir=working_dir,\n",
    "    output_dir=output_dir,\n",
    "    run_sumo_func=run_sumo,\n",
    "    population_size=6,\n",
    "    generations=num_generations,\n",
    "    mutation_rate=0.2,\n",
    "    elite_size=2\n",
    ")"
   ]
  },
  {
   "cell_type": "markdown",
   "id": "51f7806b",
   "metadata": {},
   "source": [
    "### Output Files\n",
    "\n",
    "- The `output_dir/genes/` folder contains all generated network and emissions files for each GA individual.\n",
    "- The `output_dir/ga_top_variants.csv` file summarizes the top-performing variants and their traffic light settings.\n",
    "\n",
    "You can use these files to analyze and visualize the optimization results."
   ]
  },
  {
   "cell_type": "code",
   "execution_count": 24,
   "id": "a12aeff2",
   "metadata": {},
   "outputs": [
    {
     "data": {
      "application/vnd.microsoft.datawrangler.viewer.v0+json": {
       "columns": [
        {
         "name": "index",
         "rawType": "int64",
         "type": "integer"
        },
        {
         "name": "Rank",
         "rawType": "int64",
         "type": "integer"
        },
        {
         "name": "Generation",
         "rawType": "int64",
         "type": "integer"
        },
        {
         "name": "Individual",
         "rawType": "int64",
         "type": "integer"
        },
        {
         "name": "Fitness (negative)",
         "rawType": "float64",
         "type": "float"
        },
        {
         "name": "Phase Settings",
         "rawType": "object",
         "type": "string"
        }
       ],
       "ref": "e44431c8-ef1b-49a8-be30-bf194acb08d5",
       "rows": [
        [
         "0",
         "1",
         "4",
         "1",
         "-104504180.15000196",
         "TL0_P0:duration=54,minDur=16,maxDur=38 | TL0_P1:duration=59,minDur=12,maxDur=72 | TL0_P2:duration=18,minDur=14,maxDur=45 | TL0_P3:duration=36,minDur=19,maxDur=62 | TL1_P0:duration=23,minDur=15,maxDur=85 | TL1_P1:duration=14,minDur=26,maxDur=73 | TL1_P2:duration=44,minDur=16,maxDur=57 | TL1_P3:duration=32,minDur=20,maxDur=81"
        ],
        [
         "1",
         "2",
         "4",
         "2",
         "-104504180.15000196",
         "TL0_P0:duration=54,minDur=16,maxDur=38 | TL0_P1:duration=59,minDur=12,maxDur=72 | TL0_P2:duration=18,minDur=14,maxDur=45 | TL0_P3:duration=36,minDur=19,maxDur=62 | TL1_P0:duration=23,minDur=15,maxDur=85 | TL1_P1:duration=14,minDur=26,maxDur=73 | TL1_P2:duration=44,minDur=16,maxDur=57 | TL1_P3:duration=32,minDur=20,maxDur=81"
        ],
        [
         "2",
         "3",
         "4",
         "3",
         "-104504180.15000196",
         "TL0_P0:duration=54,minDur=16,maxDur=38 | TL0_P1:duration=59,minDur=12,maxDur=72 | TL0_P2:duration=18,minDur=14,maxDur=45 | TL0_P3:duration=36,minDur=19,maxDur=62 | TL1_P0:duration=23,minDur=15,maxDur=85 | TL1_P1:duration=14,minDur=26,maxDur=73 | TL1_P2:duration=44,minDur=16,maxDur=57 | TL1_P3:duration=32,minDur=20,maxDur=81"
        ],
        [
         "3",
         "4",
         "4",
         "4",
         "-104504180.15000196",
         "TL0_P0:duration=54,minDur=16,maxDur=38 | TL0_P1:duration=59,minDur=12,maxDur=72 | TL0_P2:duration=18,minDur=14,maxDur=45 | TL0_P3:duration=36,minDur=19,maxDur=62 | TL1_P0:duration=23,minDur=15,maxDur=85 | TL1_P1:duration=14,minDur=26,maxDur=73 | TL1_P2:duration=44,minDur=16,maxDur=57 | TL1_P3:duration=32,minDur=20,maxDur=81"
        ],
        [
         "4",
         "5",
         "4",
         "5",
         "-104504180.15000196",
         "TL0_P0:duration=54,minDur=16,maxDur=38 | TL0_P1:duration=59,minDur=12,maxDur=72 | TL0_P2:duration=18,minDur=14,maxDur=45 | TL0_P3:duration=36,minDur=19,maxDur=62 | TL1_P0:duration=23,minDur=15,maxDur=85 | TL1_P1:duration=14,minDur=26,maxDur=73 | TL1_P2:duration=44,minDur=16,maxDur=57 | TL1_P3:duration=32,minDur=20,maxDur=81"
        ]
       ],
       "shape": {
        "columns": 5,
        "rows": 5
       }
      },
      "text/html": [
       "<div>\n",
       "<style scoped>\n",
       "    .dataframe tbody tr th:only-of-type {\n",
       "        vertical-align: middle;\n",
       "    }\n",
       "\n",
       "    .dataframe tbody tr th {\n",
       "        vertical-align: top;\n",
       "    }\n",
       "\n",
       "    .dataframe thead th {\n",
       "        text-align: right;\n",
       "    }\n",
       "</style>\n",
       "<table border=\"1\" class=\"dataframe\">\n",
       "  <thead>\n",
       "    <tr style=\"text-align: right;\">\n",
       "      <th></th>\n",
       "      <th>Rank</th>\n",
       "      <th>Generation</th>\n",
       "      <th>Individual</th>\n",
       "      <th>Fitness (negative)</th>\n",
       "      <th>Phase Settings</th>\n",
       "    </tr>\n",
       "  </thead>\n",
       "  <tbody>\n",
       "    <tr>\n",
       "      <th>0</th>\n",
       "      <td>1</td>\n",
       "      <td>4</td>\n",
       "      <td>1</td>\n",
       "      <td>-1.045042e+08</td>\n",
       "      <td>TL0_P0:duration=54,minDur=16,maxDur=38 | TL0_P...</td>\n",
       "    </tr>\n",
       "    <tr>\n",
       "      <th>1</th>\n",
       "      <td>2</td>\n",
       "      <td>4</td>\n",
       "      <td>2</td>\n",
       "      <td>-1.045042e+08</td>\n",
       "      <td>TL0_P0:duration=54,minDur=16,maxDur=38 | TL0_P...</td>\n",
       "    </tr>\n",
       "    <tr>\n",
       "      <th>2</th>\n",
       "      <td>3</td>\n",
       "      <td>4</td>\n",
       "      <td>3</td>\n",
       "      <td>-1.045042e+08</td>\n",
       "      <td>TL0_P0:duration=54,minDur=16,maxDur=38 | TL0_P...</td>\n",
       "    </tr>\n",
       "    <tr>\n",
       "      <th>3</th>\n",
       "      <td>4</td>\n",
       "      <td>4</td>\n",
       "      <td>4</td>\n",
       "      <td>-1.045042e+08</td>\n",
       "      <td>TL0_P0:duration=54,minDur=16,maxDur=38 | TL0_P...</td>\n",
       "    </tr>\n",
       "    <tr>\n",
       "      <th>4</th>\n",
       "      <td>5</td>\n",
       "      <td>4</td>\n",
       "      <td>5</td>\n",
       "      <td>-1.045042e+08</td>\n",
       "      <td>TL0_P0:duration=54,minDur=16,maxDur=38 | TL0_P...</td>\n",
       "    </tr>\n",
       "  </tbody>\n",
       "</table>\n",
       "</div>"
      ],
      "text/plain": [
       "   Rank  Generation  Individual  Fitness (negative)  \\\n",
       "0     1           4           1       -1.045042e+08   \n",
       "1     2           4           2       -1.045042e+08   \n",
       "2     3           4           3       -1.045042e+08   \n",
       "3     4           4           4       -1.045042e+08   \n",
       "4     5           4           5       -1.045042e+08   \n",
       "\n",
       "                                      Phase Settings  \n",
       "0  TL0_P0:duration=54,minDur=16,maxDur=38 | TL0_P...  \n",
       "1  TL0_P0:duration=54,minDur=16,maxDur=38 | TL0_P...  \n",
       "2  TL0_P0:duration=54,minDur=16,maxDur=38 | TL0_P...  \n",
       "3  TL0_P0:duration=54,minDur=16,maxDur=38 | TL0_P...  \n",
       "4  TL0_P0:duration=54,minDur=16,maxDur=38 | TL0_P...  "
      ]
     },
     "execution_count": 24,
     "metadata": {},
     "output_type": "execute_result"
    }
   ],
   "source": [
    "import pandas as pd\n",
    "\n",
    "# Load the summary CSV\n",
    "summary_path = f'{output_dir}/ga_top_variants.csv'\n",
    "df_summary = pd.read_csv(summary_path)\n",
    "df_summary.head()"
   ]
  },
  {
   "cell_type": "code",
   "execution_count": 25,
   "id": "642a925c",
   "metadata": {},
   "outputs": [
    {
     "data": {
      "image/png": "[encoded data removed]",
      "text/plain": [
       "<Figure size 1000x500 with 1 Axes>"
      ]
     },
     "metadata": {},
     "output_type": "display_data"
    }
   ],
   "source": [
    "import matplotlib.pyplot as plt\n",
    "\n",
    "plt.figure(figsize=(10, 5))\n",
    "bars = plt.bar(df_summary['Generation'], -df_summary['Fitness (negative)'])\n",
    "plt.xlabel('Generation')\n",
    "plt.ylabel('Total (CO2 + Fuel + Waiting)')\n",
    "plt.title('GA Generations: Combined Emissions, Fuel, and Waiting (lower is better)')\n",
    "\n",
    "# Add value labels inside the bars\n",
    "for bar in bars:\n",
    "    height = bar.get_height()\n",
    "\n",
    "\n",
    "plt.show()"
   ]
  }
 ],
 "metadata": {
  "kernelspec": {
   "display_name": "base",
   "language": "python",
   "name": "python3"
  },
  "language_info": {
   "codemirror_mode": {
    "name": "ipython",
    "version": 3
   },
   "file_extension": ".py",
   "mimetype": "text/x-python",
   "name": "python",
   "nbconvert_exporter": "python",
   "pygments_lexer": "ipython3",
   "version": "3.12.2"
  }
 },
 "nbformat": 4,
 "nbformat_minor": 5
}
